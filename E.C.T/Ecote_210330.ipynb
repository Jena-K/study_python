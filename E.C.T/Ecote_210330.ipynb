{
 "metadata": {
  "language_info": {
   "codemirror_mode": {
    "name": "ipython",
    "version": 3
   },
   "file_extension": ".py",
   "mimetype": "text/x-python",
   "name": "python",
   "nbconvert_exporter": "python",
   "pygments_lexer": "ipython3",
   "version": "3.9.5"
  },
  "orig_nbformat": 2,
  "kernelspec": {
   "name": "python395jvsc74a57bd0b51cee613969365630b8f9cf0bd419fa575fc2e70748d1ffd8d364f7e007fd65",
   "display_name": "Python 3.9.5 64-bit"
  },
  "metadata": {
   "interpreter": {
    "hash": "b51cee613969365630b8f9cf0bd419fa575fc2e70748d1ffd8d364f7e007fd65"
   }
  }
 },
 "nbformat": 4,
 "nbformat_minor": 2,
 "cells": [
  {
   "cell_type": "code",
   "execution_count": 64,
   "metadata": {},
   "outputs": [
    {
     "output_type": "execute_result",
     "data": {
      "text/plain": [
       "[1, 2, 3, 4, 5, 6]"
      ]
     },
     "metadata": {},
     "execution_count": 64
    }
   ],
   "source": [
    "from itertools import combinations\n",
    "from itertools import permutations\n",
    "from itertools import product\n",
    "a = [1, 2, 3, 4, 5, 6]\n",
    "b = [10, 20 , 30, 15, 1]\n",
    "na = range(3)\n",
    "nb = range(10, 12)\n",
    "list(combinations(a, 2))\n",
    "c = [[1, 2], [3, 2], [4, 1]]\n",
    "list(combinations(sorted(b), 2))\n",
    "s = '1234'\n",
    "list(permutations(s, 4))\n",
    "from functools import reduce\n",
    "ans = 0\n",
    "reduce(lambda x,y: x*y, a, 1)\n"
   ]
  },
  {
   "cell_type": "code",
   "execution_count": 82,
   "metadata": {},
   "outputs": [
    {
     "output_type": "stream",
     "name": "stdout",
     "text": [
      "{1: [(0, 0), (3, 2)], 3: [(0, 3), (3, 0)], 2: [(1, 0), (2, 3)]}\n"
     ]
    }
   ],
   "source": [
    "a = [1,2,2, 2, 2,6,7,8,5,1,11]\n",
    "from bisect import bisect_left, bisect_right\n",
    "from itertools import permutations\n",
    "import bisect\n",
    "bisect.insort_right(a, 3)\n",
    "board = [[1,0,0,3],[2,0,0,0],[0,0,0,2],[3,0,1,0]]\n",
    "cards = []\n",
    "db = {}\n",
    "for x in range(4):\n",
    "    for y in range(4):\n",
    "        key = board[x][y]\n",
    "        if key != 0:\n",
    "            if key not in db.keys() :\n",
    "                db[key] = [(x, y)]\n",
    "            else :\n",
    "                db[key].append((x, y))\n",
    "print(db)\n",
    "#list(permutations(range(len(cards)//2), len(cards)//2))\n",
    "    x1 := x0 + dx * i"
   ]
  },
  {
   "cell_type": "code",
   "execution_count": 31,
   "metadata": {},
   "outputs": [
    {
     "output_type": "execute_result",
     "data": {
      "text/plain": [
       "['123']"
      ]
     },
     "metadata": {},
     "execution_count": 31
    }
   ],
   "source": [
    "Number = {'zero': ['0'], 'one' : '1', 'two' : '2' ,'three' : '3', 'four' : '4', 'five' : '5',\n",
    "     'six' : '6', 'seven' : '7', 'eight' : '8', 'nine' : '9' }\n",
    "Number['zero'].append(3333)\n",
    "'''\n",
    "for i in Number.keys():\n",
    "    print(i)\n",
    "'''\n",
    "a = ['123']\n",
    "import copy\n",
    "b = a.copy()\n",
    "b"
   ]
  },
  {
   "cell_type": "code",
   "execution_count": 1,
   "metadata": {},
   "outputs": [
    {
     "output_type": "error",
     "ename": "ValueError",
     "evalue": "invalid literal for int() with base 10: ''",
     "traceback": [
      "\u001b[1;31m---------------------------------------------------------------------------\u001b[0m",
      "\u001b[1;31mValueError\u001b[0m                                Traceback (most recent call last)",
      "\u001b[1;32m<ipython-input-1-3e23c0273ebf>\u001b[0m in \u001b[0;36m<module>\u001b[1;34m\u001b[0m\n\u001b[0;32m      3\u001b[0m \u001b[0mdy\u001b[0m \u001b[1;33m=\u001b[0m \u001b[1;33m[\u001b[0m\u001b[1;36m0\u001b[0m\u001b[1;33m,\u001b[0m \u001b[1;36m1\u001b[0m\u001b[1;33m,\u001b[0m \u001b[1;36m0\u001b[0m\u001b[1;33m,\u001b[0m \u001b[1;33m-\u001b[0m\u001b[1;36m1\u001b[0m\u001b[1;33m]\u001b[0m\u001b[1;33m\u001b[0m\u001b[1;33m\u001b[0m\u001b[0m\n\u001b[0;32m      4\u001b[0m \u001b[0mcnt\u001b[0m \u001b[1;33m=\u001b[0m \u001b[1;36m0\u001b[0m\u001b[1;33m\u001b[0m\u001b[1;33m\u001b[0m\u001b[0m\n\u001b[1;32m----> 5\u001b[1;33m \u001b[1;32mwhile\u001b[0m \u001b[1;33m(\u001b[0m\u001b[0mn\u001b[0m \u001b[1;33m:=\u001b[0m \u001b[0mint\u001b[0m\u001b[1;33m(\u001b[0m\u001b[0minput\u001b[0m\u001b[1;33m(\u001b[0m\u001b[1;33m)\u001b[0m\u001b[1;33m)\u001b[0m\u001b[1;33m)\u001b[0m \u001b[1;33m!=\u001b[0m \u001b[1;36m0\u001b[0m \u001b[1;33m:\u001b[0m\u001b[1;33m\u001b[0m\u001b[1;33m\u001b[0m\u001b[0m\n\u001b[0m\u001b[0;32m      6\u001b[0m     \u001b[0mmaps\u001b[0m \u001b[1;33m=\u001b[0m \u001b[1;33m[\u001b[0m\u001b[0mlist\u001b[0m\u001b[1;33m(\u001b[0m\u001b[0mmap\u001b[0m\u001b[1;33m(\u001b[0m\u001b[0mint\u001b[0m\u001b[1;33m,\u001b[0m \u001b[0minput\u001b[0m\u001b[1;33m(\u001b[0m\u001b[1;33m)\u001b[0m\u001b[1;33m.\u001b[0m\u001b[0msplit\u001b[0m\u001b[1;33m(\u001b[0m\u001b[1;33m)\u001b[0m\u001b[1;33m)\u001b[0m\u001b[1;33m)\u001b[0m \u001b[1;32mfor\u001b[0m \u001b[0m_\u001b[0m \u001b[1;32min\u001b[0m \u001b[0mrange\u001b[0m\u001b[1;33m(\u001b[0m\u001b[0mn\u001b[0m\u001b[1;33m)\u001b[0m\u001b[1;33m]\u001b[0m\u001b[1;33m\u001b[0m\u001b[1;33m\u001b[0m\u001b[0m\n\u001b[0;32m      7\u001b[0m     \u001b[0mprint\u001b[0m\u001b[1;33m(\u001b[0m\u001b[1;34m'#'\u001b[0m\u001b[1;33m)\u001b[0m\u001b[1;33m\u001b[0m\u001b[1;33m\u001b[0m\u001b[0m\n",
      "\u001b[1;31mValueError\u001b[0m: invalid literal for int() with base 10: ''"
     ]
    }
   ],
   "source": [
    "import heapq\n",
    "dx = [-1, 0, 1, 0]\n",
    "dy = [0, 1, 0, -1]\n",
    "cnt = 0\n",
    "while (n := int(input())) != 0 :\n",
    "    maps = [list(map(int, input().split())) for _ in range(n)]\n",
    "    print('#')\n",
    "    visited = [[0]*n for _ in range(n)]\n",
    "    heap = [(maps[0][0], 0, 0)]\n",
    "    while heap:\n",
    "        c, x, y = heapq.heappop(heap)\n",
    "        if visited[x][y] != 0 :\n",
    "            continue\n",
    "        maps[x][y] = c\n",
    "        visited[x][y] = 1\n",
    "        for d in range(4):\n",
    "            nx = x+dx[d]\n",
    "            ny = y+dy[d]\n",
    "            if nx >= 0 and nx < n and ny >= 0 and ny < n and visited[nx][ny] == 0:\n",
    "                heapq.heappush(heap, (c+maps[nx][ny], nx, ny))\n",
    "    cnt+=1\n",
    "    print('Problem ', cnt, ': ', maps[n-1][n-1])"
   ]
  },
  {
   "cell_type": "code",
   "execution_count": 23,
   "metadata": {},
   "outputs": [
    {
     "output_type": "error",
     "ename": "ValueError",
     "evalue": "not enough values to unpack (expected 2, got 0)",
     "traceback": [
      "\u001b[1;31m---------------------------------------------------------------------------\u001b[0m",
      "\u001b[1;31mValueError\u001b[0m                                Traceback (most recent call last)",
      "\u001b[1;32m<ipython-input-23-bd6a20ec1b2a>\u001b[0m in \u001b[0;36m<module>\u001b[1;34m\u001b[0m\n\u001b[0;32m      1\u001b[0m \u001b[1;32mfrom\u001b[0m \u001b[0mcollections\u001b[0m \u001b[1;32mimport\u001b[0m \u001b[0mdeque\u001b[0m\u001b[1;33m\u001b[0m\u001b[1;33m\u001b[0m\u001b[0m\n\u001b[1;32m----> 2\u001b[1;33m \u001b[0mn\u001b[0m\u001b[1;33m,\u001b[0m\u001b[0mk\u001b[0m \u001b[1;33m=\u001b[0m \u001b[0mmap\u001b[0m\u001b[1;33m(\u001b[0m\u001b[0mint\u001b[0m\u001b[1;33m,\u001b[0m\u001b[0minput\u001b[0m\u001b[1;33m(\u001b[0m\u001b[1;33m)\u001b[0m\u001b[1;33m.\u001b[0m\u001b[0msplit\u001b[0m\u001b[1;33m(\u001b[0m\u001b[1;33m)\u001b[0m\u001b[1;33m)\u001b[0m\u001b[1;33m\u001b[0m\u001b[1;33m\u001b[0m\u001b[0m\n\u001b[0m\u001b[0;32m      3\u001b[0m \u001b[0mMap\u001b[0m \u001b[1;33m=\u001b[0m \u001b[1;33m[\u001b[0m\u001b[1;33m-\u001b[0m\u001b[1;36m1\u001b[0m\u001b[1;33m]\u001b[0m\u001b[1;33m*\u001b[0m\u001b[1;36m200001\u001b[0m\u001b[1;33m\u001b[0m\u001b[1;33m\u001b[0m\u001b[0m\n\u001b[0;32m      4\u001b[0m \u001b[0mq\u001b[0m \u001b[1;33m=\u001b[0m \u001b[0mdeque\u001b[0m\u001b[1;33m(\u001b[0m\u001b[1;33m)\u001b[0m\u001b[1;33m\u001b[0m\u001b[1;33m\u001b[0m\u001b[0m\n\u001b[0;32m      5\u001b[0m \u001b[0mMap\u001b[0m\u001b[1;33m[\u001b[0m\u001b[0mn\u001b[0m\u001b[1;33m]\u001b[0m \u001b[1;33m=\u001b[0m \u001b[1;36m0\u001b[0m\u001b[1;33m\u001b[0m\u001b[1;33m\u001b[0m\u001b[0m\n",
      "\u001b[1;31mValueError\u001b[0m: not enough values to unpack (expected 2, got 0)"
     ]
    }
   ],
   "source": [
    "from collections import deque\n",
    "n,k = map(int,input().split())\n",
    "Map = [-1]*200001\n",
    "q = deque()\n",
    "Map[n] = 0\n",
    "q.append(n)\n",
    "while q:\n",
    "    x = q.popleft()\n",
    "    if x==k:\n",
    "        print(Map[x])\n",
    "        break\n",
    "    if x*2 <= 200000 and Map[x*2] == -1:\n",
    "        Map[x*2] = Map[x]\n",
    "        q.appendleft(x*2)\n",
    "    if x-1 >= 0 and Map[x-1] == -1:\n",
    "        Map[x-1] = Map[x]+1\n",
    "        q.append(x-1)\n",
    "    if x+1 <= 200000 and Map[x+1] == -1:\n",
    "        Map[x+1] = Map[x]+1\n",
    "        q.append(x+1)"
   ]
  },
  {
   "cell_type": "code",
   "execution_count": 30,
   "metadata": {},
   "outputs": [
    {
     "output_type": "execute_result",
     "data": {
      "text/plain": [
       "[4, 3, 2, 1]"
      ]
     },
     "metadata": {},
     "execution_count": 30
    }
   ],
   "source": [
    "a = [1, 2, 3, 4]\n",
    "a[::-1]"
   ]
  }
 ]
}