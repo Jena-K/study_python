{
 "metadata": {
  "language_info": {
   "codemirror_mode": {
    "name": "ipython",
    "version": 3
   },
   "file_extension": ".py",
   "mimetype": "text/x-python",
   "name": "python",
   "nbconvert_exporter": "python",
   "pygments_lexer": "ipython3",
   "version": "3.7.6"
  },
  "orig_nbformat": 2,
  "kernelspec": {
   "name": "python376jvsc74a57bd0b3ba2566441a7c06988d0923437866b63cedc61552a5af99d1f4fb67d367b25f",
   "display_name": "Python 3.7.6 64-bit ('base': conda)"
  }
 },
 "nbformat": 4,
 "nbformat_minor": 2,
 "cells": [
  {
   "cell_type": "code",
   "execution_count": 53,
   "metadata": {},
   "outputs": [
    {
     "output_type": "execute_result",
     "data": {
      "text/plain": [
       "[(0, 10), (0, 11), (1, 10), (1, 11), (2, 10), (2, 11)]"
      ]
     },
     "metadata": {},
     "execution_count": 53
    }
   ],
   "source": [
    "from itertools import combinations\n",
    "from itertools import permutations\n",
    "from itertools import product\n",
    "a = [1, 2, 3, 4, 5, 6]\n",
    "b = [10, 20 , 30]\n",
    "na = range(3)\n",
    "nb = range(10, 12)\n",
    "list(product(na, nb))\n",
    "#list(permutations(list(product(na, nb)), 2))"
   ]
  },
  {
   "cell_type": "code",
   "execution_count": 26,
   "metadata": {},
   "outputs": [
    {
     "output_type": "stream",
     "name": "stdout",
     "text": [
      "c\nb\nc\na\n"
     ]
    }
   ],
   "source": [
    "a = ['a', 'c', 'b', 'c', 'c']\n",
    "k = 3\n",
    "a, b = b, a "
   ]
  },
  {
   "cell_type": "code",
   "execution_count": 8,
   "metadata": {},
   "outputs": [
    {
     "output_type": "stream",
     "name": "stdout",
     "text": [
      "zero\none\ntwo\nthree\nfour\nfive\nsix\nseven\neight\nnine\n"
     ]
    }
   ],
   "source": [
    "Number = {'zero': '0', 'one' : '1', 'two' : '2' ,'three' : '3', 'four' : '4', 'five' : '5',\n",
    "     'six' : '6', 'seven' : '7', 'eight' : '8', 'nine' : '9' }\n",
    "for i in Number.keys():\n",
    "    print(i)"
   ]
  },
  {
   "cell_type": "code",
   "execution_count": 64,
   "metadata": {},
   "outputs": [
    {
     "output_type": "execute_result",
     "data": {
      "text/plain": [
       "0"
      ]
     },
     "metadata": {},
     "execution_count": 64
    }
   ],
   "source": [
    "d = {'a':1, 'b':2, 'c':1, 'd':3}\n",
    "a = [1,2,3,4, 3]\n",
    "a.count(7)"
   ]
  },
  {
   "cell_type": "code",
   "execution_count": 146,
   "metadata": {},
   "outputs": [
    {
     "output_type": "stream",
     "name": "stdout",
     "text": [
      "[('+', '*'), ('*', '+')]\n['+', '*']\n-10000000000\n10000000000\n"
     ]
    }
   ],
   "source": [
    "#p349.InsertOperator\n",
    "# + - * %\n",
    "#'+' '-' '*' '/'\n",
    "from itertools import permutations\n",
    "n = int(input())\n",
    "nums = list(map(int, input().split()))\n",
    "operators = list(map(int, input().split()))\n",
    "operators_string = list('+'*operators[0]+'-'*operators[1]+'*'*operators[2]+'/'*operators[3 ])\n",
    "\n",
    "INF = int(1e10)\n",
    "MIN = INF\n",
    "MAX = -INF\n",
    "operators_perm = permutations(operators_string, n-1)\n",
    "print(list(operators_perm))\n",
    "print(operators_string)\n",
    "for operator in operators_perm:\n",
    "    #print(operator)\n",
    "    answer = nums[0]\n",
    "    for i in range(n):\n",
    "        if operator[i] == '+' :\n",
    "            answer += nums[i+1]\n",
    "        elif operator[i] == '-' :\n",
    "            answer -= nums[i+1]\n",
    "        elif operator[i] == '*' :\n",
    "            answer *= nums[i+1]\n",
    "        elif operator[i] == '/' :\n",
    "            if answer > 0 :\n",
    "                answer //= nums[i+1]\n",
    "            else :\n",
    "                answer = -((-answer)//nums[i+1])\n",
    "    print(MIN)\n",
    "    print(MAX)\n",
    "    if answer < MIN :\n",
    "        MIN = answer\n",
    "    if answer > MAX:\n",
    "        MAX = answer\n",
    "    \n",
    "print(MAX)\n",
    "print(MIN)"
   ]
  },
  {
   "cell_type": "code",
   "execution_count": 44,
   "metadata": {},
   "outputs": [
    {
     "output_type": "execute_result",
     "data": {
      "text/plain": [
       "'zzzbcdefg'"
      ]
     },
     "metadata": {},
     "execution_count": 44
    }
   ],
   "source": [
    "from itertools import permutations\n",
    "from itertools import combinations\n",
    "from bisect import bisect_left\n",
    "from bisect import bisect_right\n",
    "\n",
    "a = 'aaabcdefg'\n",
    "#bisect_left(a, 'bcd')\n",
    "bisect_right(a, 'cz')\n",
    "\n",
    "a = a.replace('a', 'z')"
   ]
  }
 ]
}