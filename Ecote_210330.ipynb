{
 "metadata": {
  "language_info": {
   "codemirror_mode": {
    "name": "ipython",
    "version": 3
   },
   "file_extension": ".py",
   "mimetype": "text/x-python",
   "name": "python",
   "nbconvert_exporter": "python",
   "pygments_lexer": "ipython3",
   "version": "3.7.6-final"
  },
  "orig_nbformat": 2,
  "kernelspec": {
   "name": "python376jvsc74a57bd0b3ba2566441a7c06988d0923437866b63cedc61552a5af99d1f4fb67d367b25f",
   "display_name": "Python 3.7.6 64-bit (conda)"
  }
 },
 "nbformat": 4,
 "nbformat_minor": 2,
 "cells": [
  {
   "source": [
    "chapter 11. 그리드"
   ],
   "cell_type": "markdown",
   "metadata": {}
  },
  {
   "cell_type": "code",
   "execution_count": 8,
   "metadata": {},
   "outputs": [
    {
     "output_type": "error",
     "ename": "ValueError",
     "evalue": "not enough values to unpack (expected 3, got 0)",
     "traceback": [
      "\u001b[1;31m---------------------------------------------------------------------------\u001b[0m",
      "\u001b[1;31mValueError\u001b[0m                                Traceback (most recent call last)",
      "\u001b[1;32m<ipython-input-8-63147b5ec609>\u001b[0m in \u001b[0;36m<module>\u001b[1;34m\u001b[0m\n\u001b[0;32m      6\u001b[0m \u001b[0minf\u001b[0m \u001b[1;33m=\u001b[0m \u001b[0mint\u001b[0m\u001b[1;33m(\u001b[0m\u001b[1;36m1e9\u001b[0m\u001b[1;33m)\u001b[0m\u001b[1;33m\u001b[0m\u001b[1;33m\u001b[0m\u001b[0m\n\u001b[0;32m      7\u001b[0m \u001b[0ma\u001b[0m \u001b[1;33m=\u001b[0m \u001b[0minput\u001b[0m\u001b[1;33m(\u001b[0m\u001b[1;33m)\u001b[0m\u001b[1;33m\u001b[0m\u001b[1;33m\u001b[0m\u001b[0m\n\u001b[1;32m----> 8\u001b[1;33m \u001b[0mn\u001b[0m\u001b[1;33m,\u001b[0m\u001b[0mm\u001b[0m\u001b[1;33m,\u001b[0m\u001b[0mc\u001b[0m \u001b[1;33m=\u001b[0m \u001b[0mmap\u001b[0m\u001b[1;33m(\u001b[0m\u001b[0mint\u001b[0m\u001b[1;33m,\u001b[0m \u001b[0minput\u001b[0m\u001b[1;33m(\u001b[0m\u001b[1;33m)\u001b[0m\u001b[1;33m.\u001b[0m\u001b[0msplit\u001b[0m\u001b[1;33m(\u001b[0m\u001b[1;33m)\u001b[0m\u001b[1;33m)\u001b[0m\u001b[1;33m\u001b[0m\u001b[1;33m\u001b[0m\u001b[0m\n\u001b[0m\u001b[0;32m      9\u001b[0m \u001b[1;31m#노드 개수, 간선 개수, 시작 노드\u001b[0m\u001b[1;33m\u001b[0m\u001b[1;33m\u001b[0m\u001b[1;33m\u001b[0m\u001b[0m\n\u001b[0;32m     10\u001b[0m \u001b[0mgraph\u001b[0m \u001b[1;33m=\u001b[0m \u001b[1;33m[\u001b[0m\u001b[1;33m[\u001b[0m\u001b[1;33m]\u001b[0m \u001b[1;32mfor\u001b[0m \u001b[0mi\u001b[0m \u001b[1;32min\u001b[0m \u001b[0mrange\u001b[0m\u001b[1;33m(\u001b[0m\u001b[0mn\u001b[0m\u001b[1;33m+\u001b[0m\u001b[1;36m1\u001b[0m\u001b[1;33m)\u001b[0m\u001b[1;33m]\u001b[0m\u001b[1;33m\u001b[0m\u001b[1;33m\u001b[0m\u001b[0m\n",
      "\u001b[1;31mValueError\u001b[0m: not enough values to unpack (expected 3, got 0)"
     ]
    }
   ],
   "source": [
    "import heapq\n",
    "import sys\n",
    "#input_old = input\n",
    "#input = sys.stdin.readline\n",
    "#input = input_old\n",
    "inf = int(1e9)\n",
    "a = input()\n",
    "n,m,c = map(int, input().split())\n",
    "#노드 개수, 간선 개수, 시작 노드\n",
    "graph = [[] for i in range(n+1)]\n",
    "distance = [inf]*(n+1)\n",
    "\n",
    "for _ in range(m):\n",
    "    x,y,z = map(int,input().split())\n",
    "    #x번 노드에서 y번 노드로 가는 비용이 z\n",
    "    graph[x].append((y,z))\n",
    "\n",
    "def dijkstra(c):\n",
    "    q = []\n",
    "    heapq.heappush(q,(0,c))\n",
    "    distance[c]=0\n",
    "    while q:\n",
    "        dist,now = heapq.heappop(q)\n",
    "        if distance[now] < dist:\n",
    "            continue\n",
    "        for i in graph[now]:\n",
    "            cost = dist + i[1]\n",
    "            if cost < distance[i[0]]:\n",
    "                distance[i[0]] = cost\n",
    "                heapq.heappush(q,(cost,i[0]))\n",
    "\n",
    "dijkstra(c)\n",
    "\n",
    "count = 0\n",
    "max_distance = 0\n",
    "\n",
    "for d in distance:\n",
    "    if d != inf:\n",
    "        count += 1\n",
    "        max_distance = max(max_distance,d)\n",
    "\n",
    "print(count -1,max_distance)"
   ]
  },
  {
   "cell_type": "code",
   "execution_count": 18,
   "metadata": {},
   "outputs": [],
   "source": [
    "a = input()"
   ]
  },
  {
   "cell_type": "code",
   "execution_count": 5,
   "metadata": {},
   "outputs": [
    {
     "output_type": "stream",
     "name": "stdout",
     "text": [
      "7\n"
     ]
    }
   ],
   "source": [
    "#p314 만들 수 없는 금액\n",
    "n = int(input())\n",
    "arr = sorted(list(map(int, input().split())))\n",
    "\n",
    "target = 1\n",
    "\n",
    "for x in arr:\n",
    "    if target < x :\n",
    "        break\n",
    "    target += x\n",
    "\n",
    "print(target)\n"
   ]
  },
  {
   "cell_type": "code",
   "execution_count": 28,
   "metadata": {},
   "outputs": [
    {
     "output_type": "stream",
     "name": "stdout",
     "text": [
      "25\nTime: 0.000998497009277343750000000000\n"
     ]
    }
   ],
   "source": [
    "#p315 볼링공 고르기\n",
    "from collections import Counter\n",
    "\n",
    "n, m = map(int, input().split())\n",
    "arr = list(map(int, input().split()))\n",
    "\n",
    "sarr = set(arr)\n",
    "\n",
    "x = Counter(arr)\n",
    "\n",
    "ans = 0\n",
    "\n",
    "for i in sarr:\n",
    "    ans += (n-x[i])*x[i]\n",
    "\n",
    "print(ans//2)\n"
   ]
  },
  {
   "cell_type": "code",
   "execution_count": 84,
   "metadata": {
    "tags": []
   },
   "outputs": [
    {
     "output_type": "stream",
     "name": "stdout",
     "text": [
      "7\n9\n8\n14\n17\n"
     ]
    }
   ],
   "source": [
    "#p323 문자열 압축 - 문자열 처리ver\n",
    "def solution(s):\n",
    "    def getLen(s, n, ln):\n",
    "        arr = ''\n",
    "        tmp = s[:n]\n",
    "        cnt = 0\n",
    "        for i in range(0, ln-n+1, n):\n",
    "            if tmp == s[i:i+n]:\n",
    "                cnt+=1\n",
    "            else :\n",
    "                if cnt > 1 : arr+=str(cnt)\n",
    "                arr+=tmp\n",
    "                tmp=s[i:i+n]\n",
    "                cnt = 1\n",
    "\n",
    "        if cnt > 1 :\n",
    "            arr += str(cnt)\n",
    "        \n",
    "        arr += tmp\n",
    "        if ln % n != 0 :\n",
    "            arr+=s[-(ln%n):]\n",
    "\n",
    "        return len(arr)\n",
    "\n",
    "    ln = len(s)\n",
    "    if ln == 1: return 1\n",
    "    answer = 1001\n",
    "\n",
    "    for i in range(1, ln//2+1):\n",
    "        tmpl = getLen(s, i, ln)\n",
    "        if answer > tmpl : answer = tmpl\n",
    "\n",
    "    return answer\n",
    "\n",
    "print(solution('aabbaccc'))\n",
    "print(solution('ababcdcdababcdcd'))\n",
    "print(solution('abcabcdede'))\n",
    "print(solution('abcabcabcabcdededededede'))\n",
    "print(solution('xababcdcdababcdcd'))\n"
   ]
  },
  {
   "cell_type": "code",
   "execution_count": 85,
   "metadata": {},
   "outputs": [
    {
     "output_type": "stream",
     "name": "stdout",
     "text": [
      "7\n9\n8\n14\n17\n"
     ]
    }
   ],
   "source": [
    "#p323 문자열 압축 - 길이 처리ver\n",
    "def solution(s):\n",
    "    def getLen(s, n, ln):\n",
    "        arr = 0\n",
    "        tmp = s[:n]\n",
    "        cnt = 0\n",
    "        for i in range(0, ln-n+1, n):\n",
    "            if tmp == s[i:i+n]:\n",
    "                cnt+=1\n",
    "            else :\n",
    "                if cnt > 1 : arr+=len(str(cnt))\n",
    "                arr+=n\n",
    "                tmp=s[i:i+n]\n",
    "                cnt = 1\n",
    "\n",
    "        if cnt > 1 :\n",
    "            arr += len(str(cnt))\n",
    "        \n",
    "        arr += n\n",
    "        if ln % n != 0 :\n",
    "            arr+=ln%n\n",
    "\n",
    "        return arr\n",
    "\n",
    "    ln = len(s)\n",
    "    if ln == 1: return 1\n",
    "    answer = 1001\n",
    "\n",
    "    for i in range(1, ln//2+1):\n",
    "        tmpl = getLen(s, i, ln)\n",
    "        if answer > tmpl : answer = tmpl\n",
    "\n",
    "    return answer\n",
    "\n",
    "print(solution('aabbaccc'))\n",
    "print(solution('ababcdcdababcdcd'))\n",
    "print(solution('abcabcdede'))\n",
    "print(solution('abcabcabcabcdededededede'))\n",
    "print(solution('xababcdcdababcdcd'))\n"
   ]
  },
  {
   "cell_type": "code",
   "execution_count": 43,
   "metadata": {},
   "outputs": [
    {
     "output_type": "stream",
     "name": "stdout",
     "text": [
      "[3, 6, 9]\n[2, 5, 8]\n[1, 4, 7]\n"
     ]
    }
   ],
   "source": [
    "#function to turn graph\n",
    "def turn_graph(maps):\n",
    "    ln = len(maps)\n",
    "\n",
    "    ans = [[0]*ln for _ in range(ln)]\n",
    "    for i in range(ln):\n",
    "        for j in range(ln):\n",
    "            ans[ln-j-1][i] = maps[i][j]\n",
    "    return ans\n",
    "for i in turn_graph(key):\n",
    "    print(i)"
   ]
  },
  {
   "cell_type": "code",
   "execution_count": 26,
   "metadata": {},
   "outputs": [
    {
     "output_type": "stream",
     "name": "stdout",
     "text": [
      "1 \n------------\n1 2 \n------------\n1 2 3 \n------------\n1 \n4 \n------------\n1 2 \n4 5 \n------------\n1 2 3 \n4 5 6 \n------------\n1 \n4 \n7 \n------------\n1 2 \n4 5 \n7 8 \n------------\n1 2 3 \n4 5 6 \n7 8 9 \n------------\n"
     ]
    }
   ],
   "source": [
    "#325 자물쇠와 열쇠\n",
    "#key = [[0, 0, 0], [1, 0, 0], [0, 1, 1]]\n",
    "#lock = [[1, 1, 1], [1, 1, 0], [1, 0, 1]]\n",
    "\n",
    "key = [[1, 2, 3], [4, 5, 6], [7, 8, 9]]\n",
    "lock = [[11, 12, 13], [14, 15, 16], [17, 18, 19]]\n",
    "\n",
    "\n"
   ]
  },
  {
   "cell_type": "code",
   "execution_count": 81,
   "metadata": {},
   "outputs": [
    {
     "output_type": "stream",
     "name": "stdout",
     "text": [
      "16\n[0, 0, 1, 0]\n[0, 0, 0, 0]\n[0, 0, 0, 0]\n[0, 0, 0, 0]\n\n[0]\n[1]\nTrue\n"
     ]
    }
   ],
   "source": [
    "#325 자물쇠와 열쇠\n",
    "#key = [[0, 0, 0], [1, 0, 0], [0, 1, 1]]\n",
    "#lock = [[1, 1, 1], [1, 1, 0], [1, 0, 1]]\n",
    "\n",
    "#key = [[1, 2, 3], [4, 5, 6], [7, 8, 9]]\n",
    "#lock = [[11, 12, 13], [14, 15, 16], [17, 18, 19]]\n",
    "\n",
    "#key = [[0, 0, 0, 0], [0, 0, 0, 0], [0, 0, 0, 0],[0, 0, 0, 0]]\n",
    "#lock = [[1, 1, 1, 1], [1, 1, 1, 1], [1, 1, 1, 1],[1, 1, 1, 1]]\n",
    "\n",
    "def turn(key):\n",
    "    ln = len(key)\n",
    "    ans = []\n",
    "    for i in range(ln):\n",
    "        tmp = []\n",
    "        for j in range(ln):\n",
    "            tmp.append(key[ln-j-1][i])\n",
    "        ans.append(tmp)\n",
    "    return ans\n",
    "\n",
    "def solution(key, lock):\n",
    "    ln = len(key) \n",
    "    \n",
    "    #lock의 전체 합\n",
    "    sm_lock = 0    \n",
    "    for i in lock:\n",
    "        sm_lock+= sum(i)\n",
    "    print(sm_lock)\n",
    "    for x in range(4):\n",
    "        for kk in key:\n",
    "            print(kk)\n",
    "        print('')\n",
    "        #비교하는 함수\n",
    "        for i in range(ln):\n",
    "            for j in range(ln):\n",
    "                tf = True\n",
    "                tmp1 = []\n",
    "                tmp2 = []\n",
    "                diff_key = 0\n",
    "                for k in range(i+1):\n",
    "                    for l in range(j+1):\n",
    "                        tmp1.append(key[k][l])\n",
    "                        tmp2.append(lock[ln-k-1][ln-l-1])\n",
    "                        diff_key += key[k][l]\n",
    "\n",
    "                if diff_key + sm_lock != ln*ln : continue\n",
    "\n",
    "                for a, b in zip(tmp1, tmp2):\n",
    "                    if (a+b) != 1 :\n",
    "                        tf = False\n",
    "                        break\n",
    "\n",
    "                if tf == True :\n",
    "                    print(tmp1)\n",
    "                    print(tmp2)\n",
    "                    return True\n",
    "        #마지막에는 방향을 돌리지 않음\n",
    "        if x == 3 :\n",
    "            break\n",
    "        #방향 돌리는 코드\n",
    "        key = turn(key)\n",
    "    return False\n",
    "\n",
    "\n",
    "print(solution(key, lock))"
   ]
  },
  {
   "cell_type": "code",
   "execution_count": 73,
   "metadata": {},
   "outputs": [
    {
     "output_type": "stream",
     "name": "stdout",
     "text": [
      "sm_lock:  7\n[0, 0, 0]\n[1, 0, 0]\n[0, 1, 1]\n\n# 0   0 7\n# 0   0 7\n# 0   0 7\n# 0   1 7\n# 0   1 7\n# 0   1 7\n# 0   1 7\n@2  0 1\n@2  0 0\n# 0   3 7\n[0, 1, 0]\n[1, 0, 0]\n[1, 0, 0]\n\n# 0   0 7\n# 0   1 7\n# 0   1 7\n# 0   1 7\n@2  0 1\n@2  1 0\n@2  1 0\n@2  0 1\ni, j, k, l, a, b\n1 1 1 1 0 1\nTrue\n"
     ]
    }
   ],
   "source": [
    "#325 자물쇠와 열쇠\n",
    "key = [[0, 0, 0], [1, 0, 0], [0, 1, 1]]\n",
    "lock = [[1, 1, 1], [1, 1, 0], [1, 0, 1]]\n",
    "\n",
    "#key = [[1, 2, 3], [4, 5, 6], [7, 8, 9]]\n",
    "#lock = [[11, 12, 13], [14, 15, 16], [17, 18, 19]]\n",
    "\n",
    "def turn(key):\n",
    "    ln = len(key)\n",
    "    ans = []\n",
    "    for i in range(ln):\n",
    "        tmp = []\n",
    "        for j in range(ln):\n",
    "            tmp.append(key[ln-j-1][i])\n",
    "        ans.append(tmp)\n",
    "    return ans\n",
    "\n",
    "def solution(key, lock):\n",
    "    ln = len(key) \n",
    "    \n",
    "    #lock의 전체 합\n",
    "    sm_lock = 0    \n",
    "    for i in lock:\n",
    "        sm_lock+= sum(i)\n",
    "    print('sm_lock: ', sm_lock)\n",
    "\n",
    "    for x in range(4):\n",
    "        for kk in key:\n",
    "            print(kk)\n",
    "        print('')\n",
    "        #비교하는 함수\n",
    "        for i in range(ln):\n",
    "            for j in range(ln):\n",
    "                tf = True\n",
    "                tmp1 = []\n",
    "                tmp2 = []\n",
    "                diff_key = 0\n",
    "                for k in range(i+1):\n",
    "                    for l in range(j+1):\n",
    "                        tmp1.append(key[k][l])\n",
    "                        tmp2.append(lock[ln-k-1][ln-l-1])\n",
    "                        diff_key += key[k][l]\n",
    "                zz = 0\n",
    "                if diff_key + sm_lock != ln*ln :\n",
    "                    print('#', zz,' ', diff_key, sm_lock)\n",
    "                    zz+=1\n",
    "                    continue\n",
    "\n",
    "                for a, b in zip(tmp1, tmp2):\n",
    "                    print('@2 ', a, b)\n",
    "                    if (a+b) != 1 :\n",
    "                        tf = False\n",
    "                        break\n",
    "\n",
    "                if tf == True :\n",
    "                    print('i, j, k, l, a, b')\n",
    "                    print(i, j, k, l, a, b)\n",
    "                    return True\n",
    "        #마지막에는 방향을 돌리지 않음\n",
    "        if x == 3 :\n",
    "            break\n",
    "        #방향 돌리는 코드\n",
    "        key = turn(key)\n",
    "    return False\n",
    "\n",
    "\n",
    "print(solution(key, lock))"
   ]
  },
  {
   "cell_type": "code",
   "execution_count": 57,
   "metadata": {},
   "outputs": [
    {
     "output_type": "stream",
     "name": "stdout",
     "text": [
      "Leanne Graham\nErvin Howell\nClementine Bauch\nPatricia Lebsack\nChelsey Dietrich\nMrs. Dennis Schulist\nKurtis Weissnat\nNicholas Runolfsdottir V\nGlenna Reichert\nClementina DuBuque\n"
     ]
    }
   ],
   "source": [
    "import requests\n",
    "\n",
    "target = 'http://jsonplaceholder.typicode.com/users'\n",
    "\n",
    "response = requests.get(url=target)\n",
    "\n",
    "for i in response.json():\n",
    "    print(i['name'])"
   ]
  },
  {
   "cell_type": "code",
   "execution_count": 12,
   "metadata": {},
   "outputs": [
    {
     "output_type": "error",
     "ename": "TypeError",
     "evalue": "list indices must be integers or slices, not list",
     "traceback": [
      "\u001b[1;31m---------------------------------------------------------------------------\u001b[0m",
      "\u001b[1;31mTypeError\u001b[0m                                 Traceback (most recent call last)",
      "\u001b[1;32m<ipython-input-12-065b4e14d5ca>\u001b[0m in \u001b[0;36m<module>\u001b[1;34m\u001b[0m\n\u001b[0;32m     14\u001b[0m                 \u001b[1;32mreturn\u001b[0m \u001b[1;32mFalse\u001b[0m\u001b[1;33m\u001b[0m\u001b[1;33m\u001b[0m\u001b[0m\n\u001b[0;32m     15\u001b[0m     \u001b[1;32mreturn\u001b[0m \u001b[1;32mTrue\u001b[0m\u001b[1;33m\u001b[0m\u001b[1;33m\u001b[0m\u001b[0m\n\u001b[1;32m---> 16\u001b[1;33m \u001b[0mtf\u001b[0m\u001b[1;33m(\u001b[0m\u001b[0mmaps\u001b[0m\u001b[1;33m,\u001b[0m \u001b[0mln\u001b[0m\u001b[1;33m)\u001b[0m\u001b[1;33m\u001b[0m\u001b[1;33m\u001b[0m\u001b[0m\n\u001b[0m",
      "\u001b[1;32m<ipython-input-12-065b4e14d5ca>\u001b[0m in \u001b[0;36mtf\u001b[1;34m(maps, ln)\u001b[0m\n\u001b[0;32m     11\u001b[0m     \u001b[1;32mfor\u001b[0m \u001b[0mi\u001b[0m \u001b[1;32min\u001b[0m \u001b[0mmaps\u001b[0m\u001b[1;33m[\u001b[0m\u001b[0mln\u001b[0m\u001b[1;33m:\u001b[0m\u001b[0mln\u001b[0m\u001b[1;33m*\u001b[0m\u001b[1;36m2\u001b[0m\u001b[1;33m]\u001b[0m\u001b[1;33m:\u001b[0m\u001b[1;33m\u001b[0m\u001b[1;33m\u001b[0m\u001b[0m\n\u001b[0;32m     12\u001b[0m         \u001b[1;32mfor\u001b[0m \u001b[0mj\u001b[0m \u001b[1;32min\u001b[0m \u001b[0mrange\u001b[0m\u001b[1;33m(\u001b[0m\u001b[0mln\u001b[0m\u001b[1;33m)\u001b[0m\u001b[1;33m:\u001b[0m\u001b[1;33m\u001b[0m\u001b[1;33m\u001b[0m\u001b[0m\n\u001b[1;32m---> 13\u001b[1;33m             \u001b[1;32mif\u001b[0m \u001b[0mmaps\u001b[0m\u001b[1;33m[\u001b[0m\u001b[0mi\u001b[0m\u001b[1;33m]\u001b[0m\u001b[1;33m[\u001b[0m\u001b[0mln\u001b[0m\u001b[1;33m+\u001b[0m\u001b[0mj\u001b[0m\u001b[1;33m]\u001b[0m \u001b[1;33m!=\u001b[0m \u001b[1;36m1\u001b[0m\u001b[1;33m:\u001b[0m\u001b[1;33m\u001b[0m\u001b[1;33m\u001b[0m\u001b[0m\n\u001b[0m\u001b[0;32m     14\u001b[0m                 \u001b[1;32mreturn\u001b[0m \u001b[1;32mFalse\u001b[0m\u001b[1;33m\u001b[0m\u001b[1;33m\u001b[0m\u001b[0m\n\u001b[0;32m     15\u001b[0m     \u001b[1;32mreturn\u001b[0m \u001b[1;32mTrue\u001b[0m\u001b[1;33m\u001b[0m\u001b[1;33m\u001b[0m\u001b[0m\n",
      "\u001b[1;31mTypeError\u001b[0m: list indices must be integers or slices, not list"
     ]
    }
   ],
   "source": [
    "a = [1, 2, 3, 4, 5, 6]\n",
    "b = [7, 8 ,9, 10, 11, 12]\n",
    "a[3:5] = [i+j for i, j in zip(a[3:5], b[3:5])]\n",
    "a\n",
    "\n",
    "key = [[1, 2, 3], [4, 5, 6], [7, 8, 9]]\n",
    "lock = [[11, 12, 13], [14, 15, 16], [17, 18, 19]]\n",
    "ln = len(lock)\n",
    "maps = [[0]*ln*3 for i in range(ln*3)]\n",
    "def tf(maps, ln):\n",
    "    for i in range(ln:ln*2):\n",
    "        for j in range(ln, ln*2):\n",
    "            if maps[i][j] != 1:\n",
    "                return False\n",
    "    return True\n",
    "tf(maps, ln)"
   ]
  },
  {
   "cell_type": "code",
   "execution_count": 25,
   "metadata": {},
   "outputs": [
    {
     "output_type": "execute_result",
     "data": {
      "text/plain": [
       "[[[0, 0, 0]], [[0, 0, 0]], [[0, 0, 0]]]"
      ]
     },
     "metadata": {},
     "execution_count": 25
    }
   ],
   "source": [
    "a = [[1, 2, 3], [4, 5, 6], [100, 101, 102]]\n",
    "b = [[7, 8 ,9], [10, 11, 12], [200, 201, 202]]\n",
    "z = [[[0]*3] for _ in range(3)]\n",
    "z[1:][1:] = a[1:][1:]\n",
    "a[1:][1:]\n",
    "z"
   ]
  },
  {
   "source": [
    "a = [1, 2, 3, 4, 5]\n",
    "b = [10, 11, 12, 13, 14]\n",
    "c = [100, 200, 300, 400, 500]\n",
    "#a[:] = c[:]\n",
    "a = c\n",
    "a[2:4] = b[2:4]\n",
    "a[2]+=100\n",
    "c"
   ],
   "cell_type": "code",
   "metadata": {},
   "execution_count": 40,
   "outputs": [
    {
     "output_type": "execute_result",
     "data": {
      "text/plain": [
       "[100, 200, 112, 13, 500]"
      ]
     },
     "metadata": {},
     "execution_count": 40
    }
   ]
  },
  {
   "cell_type": "code",
   "execution_count": 9,
   "metadata": {},
   "outputs": [
    {
     "output_type": "stream",
     "name": "stdout",
     "text": [
      "10 10 100\n"
     ]
    }
   ],
   "source": [
    "import heapq\n",
    "time = 0\n",
    "x, y = 10, 20\n",
    "tail = []\n",
    "heapq.heappush(tail, (10, (10, 100)))\n",
    "time, (a, b) = heapq.heappop(tail)\n",
    "print(time, a, b)"
   ]
  },
  {
   "cell_type": "code",
   "execution_count": 31,
   "metadata": {},
   "outputs": [
    {
     "output_type": "stream",
     "name": "stdout",
     "text": [
      "[[0, 0], [0, 0], [0, 0], [0, 0]]\n[[0, 0], [0, 100], [0, 0], [0, 0]]\n[[0, 0], [0, 0], [0, 0], [0, 0]]\n[[0, 0], [0, 0], [0, 0], [0, 0]]\n"
     ]
    }
   ],
   "source": [
    "n=3\n",
    "a=1\n",
    "b=2\n",
    "c=3\n",
    "d = [1, 2, 3]\n",
    "e = [1]\n",
    "1 in e\n",
    "import heapq\n",
    "f = [(1, 2), (3, 4), (5, 3), (2, 2), (3, 3),(2, 1),(3, 5),(2, 4),(4, 2)]\n",
    "\n",
    "\n",
    "e.append((1, 2, 3))\n",
    "e\n",
    "build_frame = [[0,0,0,1], [2,0,0,1],[4,0,0,1],[0,1,1,1],[1,1,1,1],[2,1,1,1],[3,1,1,1],[2,0,0,0],[1,1,1,0],[2,2,0,1]]\n",
    "a = (1, 2)\n",
    "b= a\n",
    "a = [[[0, 0] for _ in range(n+1)] for _ in range(n+1)]\n",
    "a[1][1][1] = 100\n",
    "for i in a:\n",
    "    print(i)"
   ]
  },
  {
   "cell_type": "code",
   "execution_count": 37,
   "metadata": {},
   "outputs": [
    {
     "output_type": "execute_result",
     "data": {
      "text/plain": [
       "1"
      ]
     },
     "metadata": {},
     "execution_count": 37
    }
   ],
   "source": [
    "build_frame = [[0,0,0,1], [2,0,0,1],[4,0,0,1],[0,1,1,1],[1,1,1,1],[2,1,1,1],[3,1,1,1],[2,0,0,0],[1,1,1,0],[2,2,0,1]]\n",
    "\n",
    "build_frame.pop(build_frame.index([4, 0, 0, 1]))\n",
    "build_frame\n",
    "a = [1, 2, 3]\n",
    "c, d, e = a\n",
    "abs(2-3)"
   ]
  }
 ]
}